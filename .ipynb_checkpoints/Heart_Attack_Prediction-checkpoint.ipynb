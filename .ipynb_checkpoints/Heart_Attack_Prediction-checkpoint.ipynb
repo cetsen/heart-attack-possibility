{
 "cells": [
  {
   "cell_type": "code",
   "execution_count": 263,
   "metadata": {},
   "outputs": [],
   "source": [
    "# Data loading\n",
    "import numpy as np\n",
    "import pandas as pd \n",
    "\n",
    "# Visualization\n",
    "import matplotlib.pyplot as plt\n",
    "import seaborn as sns\n",
    "import plot\n",
    "%matplotlib inline\n",
    "\n",
    "# Data preprocessing\n",
    "from sklearn.preprocessing import RobustScaler\n",
    "\n",
    "# Model Preparation\n",
    "from sklearn.feature_selection import mutual_info_classif\n",
    "from sklearn.inspection import permutation_importance\n",
    "\n",
    "# Model training\n",
    "from sklearn.linear_model import LogisticRegression, RidgeClassifier\n",
    "from sklearn.svm import SVC\n",
    "from sklearn.neighbors import KNeighborsClassifier\n",
    "from sklearn.ensemble import RandomForestClassifier, BaggingClassifier, GradientBoostingClassifier\n",
    "from sklearn.neural_network import MLPClassifier\n",
    "\n",
    "# Model testing\n",
    "from sklearn.model_selection import train_test_split, RepeatedStratifiedKFold, GridSearchCV"
   ]
  },
  {
   "cell_type": "code",
   "execution_count": 2,
   "metadata": {},
   "outputs": [],
   "source": [
    "df = pd.read_csv('heart.csv')"
   ]
  },
  {
   "cell_type": "markdown",
   "metadata": {},
   "source": [
    "## Exploratory Data Analysis & Data Cleaning"
   ]
  },
  {
   "cell_type": "code",
   "execution_count": 3,
   "metadata": {},
   "outputs": [
    {
     "data": {
      "text/html": [
       "<div>\n",
       "<style scoped>\n",
       "    .dataframe tbody tr th:only-of-type {\n",
       "        vertical-align: middle;\n",
       "    }\n",
       "\n",
       "    .dataframe tbody tr th {\n",
       "        vertical-align: top;\n",
       "    }\n",
       "\n",
       "    .dataframe thead th {\n",
       "        text-align: right;\n",
       "    }\n",
       "</style>\n",
       "<table border=\"1\" class=\"dataframe\">\n",
       "  <thead>\n",
       "    <tr style=\"text-align: right;\">\n",
       "      <th></th>\n",
       "      <th>age</th>\n",
       "      <th>sex</th>\n",
       "      <th>cp</th>\n",
       "      <th>trestbps</th>\n",
       "      <th>chol</th>\n",
       "      <th>fbs</th>\n",
       "      <th>restecg</th>\n",
       "      <th>thalach</th>\n",
       "      <th>exang</th>\n",
       "      <th>oldpeak</th>\n",
       "      <th>slope</th>\n",
       "      <th>ca</th>\n",
       "      <th>thal</th>\n",
       "      <th>target</th>\n",
       "    </tr>\n",
       "  </thead>\n",
       "  <tbody>\n",
       "    <tr>\n",
       "      <th>0</th>\n",
       "      <td>63</td>\n",
       "      <td>1</td>\n",
       "      <td>3</td>\n",
       "      <td>145</td>\n",
       "      <td>233</td>\n",
       "      <td>1</td>\n",
       "      <td>0</td>\n",
       "      <td>150</td>\n",
       "      <td>0</td>\n",
       "      <td>2.3</td>\n",
       "      <td>0</td>\n",
       "      <td>0</td>\n",
       "      <td>1</td>\n",
       "      <td>1</td>\n",
       "    </tr>\n",
       "    <tr>\n",
       "      <th>1</th>\n",
       "      <td>37</td>\n",
       "      <td>1</td>\n",
       "      <td>2</td>\n",
       "      <td>130</td>\n",
       "      <td>250</td>\n",
       "      <td>0</td>\n",
       "      <td>1</td>\n",
       "      <td>187</td>\n",
       "      <td>0</td>\n",
       "      <td>3.5</td>\n",
       "      <td>0</td>\n",
       "      <td>0</td>\n",
       "      <td>2</td>\n",
       "      <td>1</td>\n",
       "    </tr>\n",
       "    <tr>\n",
       "      <th>2</th>\n",
       "      <td>41</td>\n",
       "      <td>0</td>\n",
       "      <td>1</td>\n",
       "      <td>130</td>\n",
       "      <td>204</td>\n",
       "      <td>0</td>\n",
       "      <td>0</td>\n",
       "      <td>172</td>\n",
       "      <td>0</td>\n",
       "      <td>1.4</td>\n",
       "      <td>2</td>\n",
       "      <td>0</td>\n",
       "      <td>2</td>\n",
       "      <td>1</td>\n",
       "    </tr>\n",
       "    <tr>\n",
       "      <th>3</th>\n",
       "      <td>56</td>\n",
       "      <td>1</td>\n",
       "      <td>1</td>\n",
       "      <td>120</td>\n",
       "      <td>236</td>\n",
       "      <td>0</td>\n",
       "      <td>1</td>\n",
       "      <td>178</td>\n",
       "      <td>0</td>\n",
       "      <td>0.8</td>\n",
       "      <td>2</td>\n",
       "      <td>0</td>\n",
       "      <td>2</td>\n",
       "      <td>1</td>\n",
       "    </tr>\n",
       "    <tr>\n",
       "      <th>4</th>\n",
       "      <td>57</td>\n",
       "      <td>0</td>\n",
       "      <td>0</td>\n",
       "      <td>120</td>\n",
       "      <td>354</td>\n",
       "      <td>0</td>\n",
       "      <td>1</td>\n",
       "      <td>163</td>\n",
       "      <td>1</td>\n",
       "      <td>0.6</td>\n",
       "      <td>2</td>\n",
       "      <td>0</td>\n",
       "      <td>2</td>\n",
       "      <td>1</td>\n",
       "    </tr>\n",
       "  </tbody>\n",
       "</table>\n",
       "</div>"
      ],
      "text/plain": [
       "   age  sex  cp  trestbps  chol  fbs  restecg  thalach  exang  oldpeak  slope  \\\n",
       "0   63    1   3       145   233    1        0      150      0      2.3      0   \n",
       "1   37    1   2       130   250    0        1      187      0      3.5      0   \n",
       "2   41    0   1       130   204    0        0      172      0      1.4      2   \n",
       "3   56    1   1       120   236    0        1      178      0      0.8      2   \n",
       "4   57    0   0       120   354    0        1      163      1      0.6      2   \n",
       "\n",
       "   ca  thal  target  \n",
       "0   0     1       1  \n",
       "1   0     2       1  \n",
       "2   0     2       1  \n",
       "3   0     2       1  \n",
       "4   0     2       1  "
      ]
     },
     "execution_count": 3,
     "metadata": {},
     "output_type": "execute_result"
    }
   ],
   "source": [
    "df.head()"
   ]
  },
  {
   "cell_type": "code",
   "execution_count": 4,
   "metadata": {},
   "outputs": [
    {
     "data": {
      "text/html": [
       "<div>\n",
       "<style scoped>\n",
       "    .dataframe tbody tr th:only-of-type {\n",
       "        vertical-align: middle;\n",
       "    }\n",
       "\n",
       "    .dataframe tbody tr th {\n",
       "        vertical-align: top;\n",
       "    }\n",
       "\n",
       "    .dataframe thead th {\n",
       "        text-align: right;\n",
       "    }\n",
       "</style>\n",
       "<table border=\"1\" class=\"dataframe\">\n",
       "  <thead>\n",
       "    <tr style=\"text-align: right;\">\n",
       "      <th></th>\n",
       "      <th>age</th>\n",
       "      <th>sex</th>\n",
       "      <th>cp</th>\n",
       "      <th>trestbps</th>\n",
       "      <th>chol</th>\n",
       "      <th>fbs</th>\n",
       "      <th>restecg</th>\n",
       "      <th>thalach</th>\n",
       "      <th>exang</th>\n",
       "      <th>oldpeak</th>\n",
       "      <th>slope</th>\n",
       "      <th>ca</th>\n",
       "      <th>thal</th>\n",
       "      <th>target</th>\n",
       "    </tr>\n",
       "  </thead>\n",
       "  <tbody>\n",
       "    <tr>\n",
       "      <th>298</th>\n",
       "      <td>57</td>\n",
       "      <td>0</td>\n",
       "      <td>0</td>\n",
       "      <td>140</td>\n",
       "      <td>241</td>\n",
       "      <td>0</td>\n",
       "      <td>1</td>\n",
       "      <td>123</td>\n",
       "      <td>1</td>\n",
       "      <td>0.2</td>\n",
       "      <td>1</td>\n",
       "      <td>0</td>\n",
       "      <td>3</td>\n",
       "      <td>0</td>\n",
       "    </tr>\n",
       "    <tr>\n",
       "      <th>299</th>\n",
       "      <td>45</td>\n",
       "      <td>1</td>\n",
       "      <td>3</td>\n",
       "      <td>110</td>\n",
       "      <td>264</td>\n",
       "      <td>0</td>\n",
       "      <td>1</td>\n",
       "      <td>132</td>\n",
       "      <td>0</td>\n",
       "      <td>1.2</td>\n",
       "      <td>1</td>\n",
       "      <td>0</td>\n",
       "      <td>3</td>\n",
       "      <td>0</td>\n",
       "    </tr>\n",
       "    <tr>\n",
       "      <th>300</th>\n",
       "      <td>68</td>\n",
       "      <td>1</td>\n",
       "      <td>0</td>\n",
       "      <td>144</td>\n",
       "      <td>193</td>\n",
       "      <td>1</td>\n",
       "      <td>1</td>\n",
       "      <td>141</td>\n",
       "      <td>0</td>\n",
       "      <td>3.4</td>\n",
       "      <td>1</td>\n",
       "      <td>2</td>\n",
       "      <td>3</td>\n",
       "      <td>0</td>\n",
       "    </tr>\n",
       "    <tr>\n",
       "      <th>301</th>\n",
       "      <td>57</td>\n",
       "      <td>1</td>\n",
       "      <td>0</td>\n",
       "      <td>130</td>\n",
       "      <td>131</td>\n",
       "      <td>0</td>\n",
       "      <td>1</td>\n",
       "      <td>115</td>\n",
       "      <td>1</td>\n",
       "      <td>1.2</td>\n",
       "      <td>1</td>\n",
       "      <td>1</td>\n",
       "      <td>3</td>\n",
       "      <td>0</td>\n",
       "    </tr>\n",
       "    <tr>\n",
       "      <th>302</th>\n",
       "      <td>57</td>\n",
       "      <td>0</td>\n",
       "      <td>1</td>\n",
       "      <td>130</td>\n",
       "      <td>236</td>\n",
       "      <td>0</td>\n",
       "      <td>0</td>\n",
       "      <td>174</td>\n",
       "      <td>0</td>\n",
       "      <td>0.0</td>\n",
       "      <td>1</td>\n",
       "      <td>1</td>\n",
       "      <td>2</td>\n",
       "      <td>0</td>\n",
       "    </tr>\n",
       "  </tbody>\n",
       "</table>\n",
       "</div>"
      ],
      "text/plain": [
       "     age  sex  cp  trestbps  chol  fbs  restecg  thalach  exang  oldpeak  \\\n",
       "298   57    0   0       140   241    0        1      123      1      0.2   \n",
       "299   45    1   3       110   264    0        1      132      0      1.2   \n",
       "300   68    1   0       144   193    1        1      141      0      3.4   \n",
       "301   57    1   0       130   131    0        1      115      1      1.2   \n",
       "302   57    0   1       130   236    0        0      174      0      0.0   \n",
       "\n",
       "     slope  ca  thal  target  \n",
       "298      1   0     3       0  \n",
       "299      1   0     3       0  \n",
       "300      1   2     3       0  \n",
       "301      1   1     3       0  \n",
       "302      1   1     2       0  "
      ]
     },
     "execution_count": 4,
     "metadata": {},
     "output_type": "execute_result"
    }
   ],
   "source": [
    "df.tail()"
   ]
  },
  {
   "cell_type": "code",
   "execution_count": 5,
   "metadata": {},
   "outputs": [
    {
     "data": {
      "text/html": [
       "<div>\n",
       "<style scoped>\n",
       "    .dataframe tbody tr th:only-of-type {\n",
       "        vertical-align: middle;\n",
       "    }\n",
       "\n",
       "    .dataframe tbody tr th {\n",
       "        vertical-align: top;\n",
       "    }\n",
       "\n",
       "    .dataframe thead th {\n",
       "        text-align: right;\n",
       "    }\n",
       "</style>\n",
       "<table border=\"1\" class=\"dataframe\">\n",
       "  <thead>\n",
       "    <tr style=\"text-align: right;\">\n",
       "      <th></th>\n",
       "      <th>age</th>\n",
       "      <th>sex</th>\n",
       "      <th>cp</th>\n",
       "      <th>trestbps</th>\n",
       "      <th>chol</th>\n",
       "      <th>fbs</th>\n",
       "      <th>restecg</th>\n",
       "      <th>thalach</th>\n",
       "      <th>exang</th>\n",
       "      <th>oldpeak</th>\n",
       "      <th>slope</th>\n",
       "      <th>ca</th>\n",
       "      <th>thal</th>\n",
       "      <th>target</th>\n",
       "    </tr>\n",
       "  </thead>\n",
       "  <tbody>\n",
       "    <tr>\n",
       "      <th>count</th>\n",
       "      <td>303.000000</td>\n",
       "      <td>303.000000</td>\n",
       "      <td>303.000000</td>\n",
       "      <td>303.000000</td>\n",
       "      <td>303.000000</td>\n",
       "      <td>303.000000</td>\n",
       "      <td>303.000000</td>\n",
       "      <td>303.000000</td>\n",
       "      <td>303.000000</td>\n",
       "      <td>303.000000</td>\n",
       "      <td>303.000000</td>\n",
       "      <td>303.000000</td>\n",
       "      <td>303.000000</td>\n",
       "      <td>303.000000</td>\n",
       "    </tr>\n",
       "    <tr>\n",
       "      <th>mean</th>\n",
       "      <td>54.366337</td>\n",
       "      <td>0.683168</td>\n",
       "      <td>0.966997</td>\n",
       "      <td>131.623762</td>\n",
       "      <td>246.264026</td>\n",
       "      <td>0.148515</td>\n",
       "      <td>0.528053</td>\n",
       "      <td>149.646865</td>\n",
       "      <td>0.326733</td>\n",
       "      <td>1.039604</td>\n",
       "      <td>1.399340</td>\n",
       "      <td>0.729373</td>\n",
       "      <td>2.313531</td>\n",
       "      <td>0.544554</td>\n",
       "    </tr>\n",
       "    <tr>\n",
       "      <th>std</th>\n",
       "      <td>9.082101</td>\n",
       "      <td>0.466011</td>\n",
       "      <td>1.032052</td>\n",
       "      <td>17.538143</td>\n",
       "      <td>51.830751</td>\n",
       "      <td>0.356198</td>\n",
       "      <td>0.525860</td>\n",
       "      <td>22.905161</td>\n",
       "      <td>0.469794</td>\n",
       "      <td>1.161075</td>\n",
       "      <td>0.616226</td>\n",
       "      <td>1.022606</td>\n",
       "      <td>0.612277</td>\n",
       "      <td>0.498835</td>\n",
       "    </tr>\n",
       "    <tr>\n",
       "      <th>min</th>\n",
       "      <td>29.000000</td>\n",
       "      <td>0.000000</td>\n",
       "      <td>0.000000</td>\n",
       "      <td>94.000000</td>\n",
       "      <td>126.000000</td>\n",
       "      <td>0.000000</td>\n",
       "      <td>0.000000</td>\n",
       "      <td>71.000000</td>\n",
       "      <td>0.000000</td>\n",
       "      <td>0.000000</td>\n",
       "      <td>0.000000</td>\n",
       "      <td>0.000000</td>\n",
       "      <td>0.000000</td>\n",
       "      <td>0.000000</td>\n",
       "    </tr>\n",
       "    <tr>\n",
       "      <th>50%</th>\n",
       "      <td>55.000000</td>\n",
       "      <td>1.000000</td>\n",
       "      <td>1.000000</td>\n",
       "      <td>130.000000</td>\n",
       "      <td>240.000000</td>\n",
       "      <td>0.000000</td>\n",
       "      <td>1.000000</td>\n",
       "      <td>153.000000</td>\n",
       "      <td>0.000000</td>\n",
       "      <td>0.800000</td>\n",
       "      <td>1.000000</td>\n",
       "      <td>0.000000</td>\n",
       "      <td>2.000000</td>\n",
       "      <td>1.000000</td>\n",
       "    </tr>\n",
       "    <tr>\n",
       "      <th>max</th>\n",
       "      <td>77.000000</td>\n",
       "      <td>1.000000</td>\n",
       "      <td>3.000000</td>\n",
       "      <td>200.000000</td>\n",
       "      <td>564.000000</td>\n",
       "      <td>1.000000</td>\n",
       "      <td>2.000000</td>\n",
       "      <td>202.000000</td>\n",
       "      <td>1.000000</td>\n",
       "      <td>6.200000</td>\n",
       "      <td>2.000000</td>\n",
       "      <td>4.000000</td>\n",
       "      <td>3.000000</td>\n",
       "      <td>1.000000</td>\n",
       "    </tr>\n",
       "    <tr>\n",
       "      <th>missing_values (%)</th>\n",
       "      <td>0.000000</td>\n",
       "      <td>0.000000</td>\n",
       "      <td>0.000000</td>\n",
       "      <td>0.000000</td>\n",
       "      <td>0.000000</td>\n",
       "      <td>0.000000</td>\n",
       "      <td>0.000000</td>\n",
       "      <td>0.000000</td>\n",
       "      <td>0.000000</td>\n",
       "      <td>0.000000</td>\n",
       "      <td>0.000000</td>\n",
       "      <td>0.000000</td>\n",
       "      <td>0.000000</td>\n",
       "      <td>0.000000</td>\n",
       "    </tr>\n",
       "  </tbody>\n",
       "</table>\n",
       "</div>"
      ],
      "text/plain": [
       "                           age         sex          cp    trestbps  \\\n",
       "count               303.000000  303.000000  303.000000  303.000000   \n",
       "mean                 54.366337    0.683168    0.966997  131.623762   \n",
       "std                   9.082101    0.466011    1.032052   17.538143   \n",
       "min                  29.000000    0.000000    0.000000   94.000000   \n",
       "50%                  55.000000    1.000000    1.000000  130.000000   \n",
       "max                  77.000000    1.000000    3.000000  200.000000   \n",
       "missing_values (%)    0.000000    0.000000    0.000000    0.000000   \n",
       "\n",
       "                          chol         fbs     restecg     thalach  \\\n",
       "count               303.000000  303.000000  303.000000  303.000000   \n",
       "mean                246.264026    0.148515    0.528053  149.646865   \n",
       "std                  51.830751    0.356198    0.525860   22.905161   \n",
       "min                 126.000000    0.000000    0.000000   71.000000   \n",
       "50%                 240.000000    0.000000    1.000000  153.000000   \n",
       "max                 564.000000    1.000000    2.000000  202.000000   \n",
       "missing_values (%)    0.000000    0.000000    0.000000    0.000000   \n",
       "\n",
       "                         exang     oldpeak       slope          ca  \\\n",
       "count               303.000000  303.000000  303.000000  303.000000   \n",
       "mean                  0.326733    1.039604    1.399340    0.729373   \n",
       "std                   0.469794    1.161075    0.616226    1.022606   \n",
       "min                   0.000000    0.000000    0.000000    0.000000   \n",
       "50%                   0.000000    0.800000    1.000000    0.000000   \n",
       "max                   1.000000    6.200000    2.000000    4.000000   \n",
       "missing_values (%)    0.000000    0.000000    0.000000    0.000000   \n",
       "\n",
       "                          thal      target  \n",
       "count               303.000000  303.000000  \n",
       "mean                  2.313531    0.544554  \n",
       "std                   0.612277    0.498835  \n",
       "min                   0.000000    0.000000  \n",
       "50%                   2.000000    1.000000  \n",
       "max                   3.000000    1.000000  \n",
       "missing_values (%)    0.000000    0.000000  "
      ]
     },
     "execution_count": 5,
     "metadata": {},
     "output_type": "execute_result"
    }
   ],
   "source": [
    "# Show statistics\n",
    "stats = df.describe()\n",
    "# Select the desired statistics\n",
    "stats = stats.loc[['count','mean', 'std', 'min', '50%', 'max']]\n",
    "nan_percentage = df.isnull().sum(axis = 0)*100 / len(df)\n",
    "stats.loc['missing_values (%)'] = np.array(nan_percentage)\n",
    "stats"
   ]
  },
  {
   "cell_type": "code",
   "execution_count": 6,
   "metadata": {},
   "outputs": [
    {
     "data": {
      "image/png": "[encoded data removed]",
      "text/plain": [
       "<Figure size 864x576 with 16 Axes>"
      ]
     },
     "metadata": {
      "needs_background": "light"
     },
     "output_type": "display_data"
    }
   ],
   "source": [
    "plot.plot_dists(df)"
   ]
  },
  {
   "cell_type": "markdown",
   "metadata": {},
   "source": [
    "Some features such as oldpeak and ca are heavily tailed. Male-female ratio is imbalanced. \n",
    "\n",
    "A value of 4 exists in the feature \"ca\". However, by definition, its value can only go upto 3. Therefore, we detect the number of such rows and remove them since they only occur 4 times in the dataset."
   ]
  },
  {
   "cell_type": "code",
   "execution_count": 7,
   "metadata": {},
   "outputs": [
    {
     "name": "stdout",
     "output_type": "stream",
     "text": [
      "Number of duplicates in dataframe: 1 -- cleaning duplicates\n",
      "Number of rows with ca value large than 3: 4 -- removing erronous rows (with ca > 3)\n",
      "Number of samples after cleaning: 298\n"
     ]
    }
   ],
   "source": [
    "print(\"Number of duplicates in dataframe:\", df.duplicated().sum(), \"-- cleaning duplicates\")\n",
    "df = df[~df.duplicated(keep='first')]\n",
    "\n",
    "print(\"Number of rows with ca value large than 3:\", len(df[df.ca > 3]), \"-- removing erronous rows (with ca > 3)\")\n",
    "df = df[df.ca <= 3]\n",
    "\n",
    "print(\"Number of samples after cleaning:\", len(df))"
   ]
  },
  {
   "cell_type": "code",
   "execution_count": 8,
   "metadata": {},
   "outputs": [
    {
     "data": {
      "image/png": "[encoded data removed]",
      "text/plain": [
       "<Figure size 1008x1008 with 13 Axes>"
      ]
     },
     "metadata": {
      "needs_background": "light"
     },
     "output_type": "display_data"
    }
   ],
   "source": [
    "plot.plot_feat_target(df)"
   ]
  },
  {
   "cell_type": "markdown",
   "metadata": {},
   "source": [
    "- Some feature distributions are different for the high-risk and low-risk groups. For example,\n",
    "    - Ca value differs by a large margin between the two groups, where the low-risk group is more likely to have more vessels colored by fluoroscopy. \n",
    "    - Exang is more likely to occur in the low-risk group.\n",
    "    - Slope and thalach are more likely to be large for the high-risk group.\n",
    "    - Females are more likely to be in the high-risk group.\n",
    "- Some feature distributions are similar for the high-risk and low-risk groups. For example,\n",
    "    - Both the high-risk and low-risk groups follow similar restbps and chol distributions. Therefore, these are not defining variables."
   ]
  },
  {
   "cell_type": "code",
   "execution_count": 9,
   "metadata": {},
   "outputs": [
    {
     "data": {
      "image/png": "[encoded data removed]",
      "text/plain": [
       "<Figure size 1008x576 with 2 Axes>"
      ]
     },
     "metadata": {
      "needs_background": "light"
     },
     "output_type": "display_data"
    }
   ],
   "source": [
    "plot.plot_corr_heatmap(df)"
   ]
  },
  {
   "cell_type": "markdown",
   "metadata": {},
   "source": [
    "The relationships between the features and the target are more visible in the correlation heatmap. Some features have a much stronger correlation with the target variable than others:\n",
    "\n",
    "- Moderate positive correlation: cp, thalach, slope\n",
    "- Weak positive correlation: restecg\n",
    "- Moderate negative correlation: exang, oldpeak, ca, thal\n",
    "- Weak negative correlation: age, sex, trestbps, chol, fbs\n",
    "\n",
    "We will conduct feature importance analysis and select the most representative features to include in our model."
   ]
  },
  {
   "cell_type": "markdown",
   "metadata": {},
   "source": [
    "## Model Preparation & Data Preprocessing"
   ]
  },
  {
   "cell_type": "code",
   "execution_count": 202,
   "metadata": {},
   "outputs": [],
   "source": [
    "# Split data into train and test sets\n",
    "X = df.drop('target',axis=1)\n",
    "y = df[\"target\"]\n",
    "X_train, X_test, y_train, y_test = train_test_split(X, y, test_size=0.20, random_state = 21) "
   ]
  },
  {
   "cell_type": "code",
   "execution_count": 203,
   "metadata": {},
   "outputs": [
    {
     "name": "stdout",
     "output_type": "stream",
     "text": [
      "Distribution of target variable in train set:\n",
      "1    0.55042\n",
      "0    0.44958\n",
      "Name: target, dtype: float64\n",
      "\n",
      "Distribution of target variable in test set:\n",
      "0    0.5\n",
      "1    0.5\n",
      "Name: target, dtype: float64\n"
     ]
    }
   ],
   "source": [
    "print(\"Distribution of target variable in train set:\")\n",
    "print(y_train.value_counts()/len(y_train))\n",
    "print(\"\\nDistribution of target variable in test set:\")\n",
    "print(y_test.value_counts()/len(y_test))"
   ]
  },
  {
   "cell_type": "markdown",
   "metadata": {},
   "source": [
    "The target variable is distributed evenly in train and test sets."
   ]
  },
  {
   "cell_type": "code",
   "execution_count": 204,
   "metadata": {},
   "outputs": [],
   "source": [
    "# Scale features using statistics that are robust to outliers\n",
    "cols = X_train.columns\n",
    "scaler = RobustScaler().fit(X_train)\n",
    "X_train = pd.DataFrame(scaler.transform(X_train), columns=cols)\n",
    "X_test = pd.DataFrame(scaler.transform(X_test), columns=cols)"
   ]
  },
  {
   "cell_type": "markdown",
   "metadata": {},
   "source": [
    "### Feature Importance"
   ]
  },
  {
   "cell_type": "markdown",
   "metadata": {},
   "source": [
    "We will remove the unimportant features for our model to generalize well and to reduce the dimensionality, especially since our dataset has just under 300 samples."
   ]
  },
  {
   "cell_type": "code",
   "execution_count": 237,
   "metadata": {},
   "outputs": [],
   "source": [
    "# Compute feature importance based on feature permutation\n",
    "feature_names = [f'feature {i}' for i in range(X.shape[1])]\n",
    "forest = RandomForestClassifier(random_state=0)\n",
    "forest.fit(X_train, y_train)\n",
    "result = permutation_importance(forest, X_test, y_test, n_repeats=10, random_state=42, n_jobs=2)\n",
    "forest_importances = pd.Series(result.importances_mean, index=feature_names)"
   ]
  },
  {
   "cell_type": "code",
   "execution_count": 264,
   "metadata": {},
   "outputs": [
    {
     "data": {
      "image/png": "[encoded data removed]",
      "text/plain": [
       "<Figure size 432x288 with 1 Axes>"
      ]
     },
     "metadata": {
      "needs_background": "light"
     },
     "output_type": "display_data"
    }
   ],
   "source": [
    "# Plot feature importances\n",
    "fig, ax = plt.subplots()\n",
    "forest_importances.plot.bar(yerr=result.importances_std, ax=ax)\n",
    "ax.set_title(\"Feature importances using permutation\")\n",
    "ax.set_ylabel(\"Mean accuracy decrease\")\n",
    "fig.tight_layout()\n",
    "plt.show()"
   ]
  },
  {
   "cell_type": "markdown",
   "metadata": {},
   "source": [
    "For experimentation, we will try three different set of features on all models and compare their performances. The sets of features are the following:\n",
    "1. all features\n",
    "2. most important features\n",
    "3. all features except age and sex (to assess the impact of age and sex)"
   ]
  },
  {
   "cell_type": "code",
   "execution_count": 247,
   "metadata": {},
   "outputs": [],
   "source": [
    "# Remove least important features\n",
    "unimportant_feats = [0,3,4,6,7,8]\n",
    "X_train_imp = X_train.drop(X_train.columns[unimportant_feats], axis=1)    \n",
    "X_test_imp = X_train.drop(X_train.columns[unimportant_feats], axis=1)  \n",
    "\n",
    "# Remove age and sex features\n",
    "age_sex = [0,1]\n",
    "X_train_no_age_sex= X_train.drop(X_train.columns[age_sex], axis=1)   \n",
    "X_test_no_age_sex = X_test.drop(X_test.columns[age_sex], axis=1)   "
   ]
  },
  {
   "cell_type": "markdown",
   "metadata": {},
   "source": [
    "## ML models"
   ]
  },
  {
   "cell_type": "code",
   "execution_count": 250,
   "metadata": {},
   "outputs": [],
   "source": [
    "def grid_search_results(model, param_grid, X_train):\n",
    "    \"\"\" \n",
    "    Uses grid search to find the optimal hyper-parameters\n",
    "    \n",
    "    Args:\n",
    "        model (sklearn model): machine learning model\n",
    "        param_grid (dict): hyper-parameters\n",
    "        X_train (pandas DataFrame): training set\n",
    "    Returns: \n",
    "        means.mean() (float): mean of the means of the grid search results (f1-scores)\n",
    "        stds.mean() (float): mean of the standard deviations of the grid search results (f1-scores)\n",
    "    \"\"\"\n",
    "\n",
    "    cv = RepeatedStratifiedKFold(n_splits=10, n_repeats=3, random_state=1)\n",
    "    grid_search = GridSearchCV(estimator=model, param_grid=param_grid, n_jobs=-1, cv=cv, scoring='f1', error_score=0)\n",
    "    grid_result = grid_search.fit(X_train, y_train)\n",
    "    print(\"Best score: %f using %s\" % (grid_result.best_score_, grid_result.best_params_))\n",
    "\n",
    "    means = grid_result.cv_results_['mean_test_score']\n",
    "    stds = grid_result.cv_results_['std_test_score']\n",
    "    params = grid_result.cv_results_['params']\n",
    "    \n",
    "    print(\"Mean score: %f +/- %f\" % (means.mean(), stds.mean()))\n",
    "    \n",
    "    return means.mean(), stds.mean()"
   ]
  },
  {
   "cell_type": "markdown",
   "metadata": {},
   "source": [
    "### 1. Logistic Regression"
   ]
  },
  {
   "cell_type": "code",
   "execution_count": 251,
   "metadata": {},
   "outputs": [
    {
     "name": "stdout",
     "output_type": "stream",
     "text": [
      "Best score: 0.868273 using {'C': 1.0, 'penalty': 'l2', 'solver': 'liblinear'}\n",
      "Mean score: 0.860457 +/- 0.056316\n",
      "Best score: 0.871710 using {'C': 0.1, 'penalty': 'l2', 'solver': 'liblinear'}\n",
      "Mean score: 0.864003 +/- 0.059998\n",
      "Best score: 0.867579 using {'C': 10, 'penalty': 'l2', 'solver': 'newton-cg'}\n",
      "Mean score: 0.858661 +/- 0.064583\n"
     ]
    }
   ],
   "source": [
    "model = LogisticRegression()\n",
    "param_grid = {\n",
    "    'solver': ['newton-cg', 'lbfgs', 'liblinear'],\n",
    "    'penalty': ['l2'],\n",
    "    'C': [100, 10, 1.0, 0.1, 0.01]\n",
    "}\n",
    "\n",
    "# All features\n",
    "mean_lr, std_lr = grid_search_results(model, param_grid, X_train)\n",
    "# Most important features\n",
    "mean_lr_imp, std_lr_imp = grid_search_results(model, param_grid, X_train_imp)\n",
    "# All features except age and sex\n",
    "mean_lr_no_age_sex, std_lr_no_age_sex = grid_search_results(model, param_grid, X_train_no_age_sex)"
   ]
  },
  {
   "cell_type": "markdown",
   "metadata": {},
   "source": [
    "### 2. SVM"
   ]
  },
  {
   "cell_type": "code",
   "execution_count": 252,
   "metadata": {},
   "outputs": [
    {
     "name": "stdout",
     "output_type": "stream",
     "text": [
      "Best score: 0.866815 using {'C': 0.1, 'gamma': 'scale', 'kernel': 'sigmoid'}\n",
      "Mean score: 0.799769 +/- 0.057537\n",
      "Best score: 0.864171 using {'C': 0.1, 'gamma': 'scale', 'kernel': 'sigmoid'}\n",
      "Mean score: 0.805663 +/- 0.054983\n",
      "Best score: 0.864402 using {'C': 0.1, 'gamma': 'scale', 'kernel': 'sigmoid'}\n",
      "Mean score: 0.799153 +/- 0.061472\n"
     ]
    }
   ],
   "source": [
    "model = SVC()\n",
    "param_grid = {\n",
    "    'kernel': ['poly', 'rbf', 'sigmoid'],\n",
    "    'C': [50, 10, 1.0, 0.1, 0.01],\n",
    "    'gamma': ['scale']\n",
    "}\n",
    "\n",
    "mean_svm, std_svm = grid_search_results(model, param_grid, X_train)\n",
    "\n",
    "mean_svm_imp, std_svm_imp = grid_search_results(model, param_grid, X_train_imp)\n",
    "\n",
    "mean_svm_no_age_sex, std_svm_no_age_sex = grid_search_results(model, param_grid, X_train_no_age_sex)"
   ]
  },
  {
   "cell_type": "markdown",
   "metadata": {},
   "source": [
    "### 3. K-NN"
   ]
  },
  {
   "cell_type": "code",
   "execution_count": 254,
   "metadata": {},
   "outputs": [
    {
     "name": "stdout",
     "output_type": "stream",
     "text": [
      "Best score: 0.862075 using {'metric': 'manhattan', 'n_neighbors': 13, 'weights': 'distance'}\n",
      "Mean score: 0.844764 +/- 0.062961\n",
      "Best score: 0.881480 using {'metric': 'manhattan', 'n_neighbors': 27, 'weights': 'uniform'}\n",
      "Mean score: 0.851033 +/- 0.066592\n",
      "Best score: 0.867348 using {'metric': 'manhattan', 'n_neighbors': 21, 'weights': 'uniform'}\n",
      "Mean score: 0.849275 +/- 0.058149\n"
     ]
    }
   ],
   "source": [
    "model = KNeighborsClassifier()\n",
    "param_grid = {\n",
    "    'n_neighbors': range(1, 33, 2),\n",
    "    'weights': ['uniform', 'distance'],\n",
    "    'metric': ['euclidean', 'manhattan', 'minkowski']\n",
    "}\n",
    "\n",
    "mean_knn, std_knn = grid_search_results(model, param_grid, X_train)\n",
    "\n",
    "mean_knn_imp, std_knn_imp = grid_search_results(model, param_grid, X_train_imp)\n",
    "\n",
    "mean_knn_no_age_sex, std_knn_no_age_sex = grid_search_results(model, param_grid, X_train_no_age_sex)"
   ]
  },
  {
   "cell_type": "markdown",
   "metadata": {},
   "source": [
    "### 4. Ridge Classifier"
   ]
  },
  {
   "cell_type": "code",
   "execution_count": 255,
   "metadata": {},
   "outputs": [
    {
     "name": "stdout",
     "output_type": "stream",
     "text": [
      "Best score: 0.870150 using {'alpha': 0.7}\n",
      "Mean score: 0.868940 +/- 0.058430\n",
      "Best score: 0.857285 using {'alpha': 0.6}\n",
      "Mean score: 0.855854 +/- 0.058855\n",
      "Best score: 0.861125 using {'alpha': 0.3}\n",
      "Mean score: 0.860846 +/- 0.060773\n"
     ]
    }
   ],
   "source": [
    "model = RidgeClassifier()\n",
    "param_grid = {\n",
    "    'alpha': [0.1, 0.2, 0.3, 0.4, 0.5, 0.6, 0.7, 0.8, 0.9, 1.0]\n",
    "}\n",
    "\n",
    "mean_ridge, std_ridge = grid_search_results(model, param_grid, X_train)\n",
    "\n",
    "mean_ridge_imp, std_ridge_imp = grid_search_results(model, param_grid, X_train_imp)\n",
    "\n",
    "mean_ridge_no_age_sex, std_ridge_no_age_sex = grid_search_results(model, param_grid, X_train_no_age_sex)"
   ]
  },
  {
   "cell_type": "markdown",
   "metadata": {},
   "source": [
    "### 5. Random Forest"
   ]
  },
  {
   "cell_type": "code",
   "execution_count": 256,
   "metadata": {},
   "outputs": [
    {
     "name": "stdout",
     "output_type": "stream",
     "text": [
      "Best score: 0.846895 using {'max_features': 'sqrt', 'n_estimators': 1000}\n",
      "Mean score: 0.831730 +/- 0.071120\n",
      "Best score: 0.841442 using {'max_features': 'log2', 'n_estimators': 100}\n",
      "Mean score: 0.830341 +/- 0.066910\n",
      "Best score: 0.846468 using {'max_features': 'log2', 'n_estimators': 1000}\n",
      "Mean score: 0.832344 +/- 0.067790\n"
     ]
    }
   ],
   "source": [
    "model = RandomForestClassifier()\n",
    "param_grid = {\n",
    "    'n_estimators': [10, 100, 1000],\n",
    "    'max_features': ['sqrt', 'log2']\n",
    "}\n",
    "\n",
    "mean_rf, std_rf = grid_search_results(model, param_grid, X_train)\n",
    "\n",
    "mean_rf_imp, std_rf_imp = grid_search_results(model, param_grid, X_train_imp)\n",
    "\n",
    "mean_rf_no_age_sex, std_rf_no_age_sex = grid_search_results(model, param_grid, X_train_no_age_sex)"
   ]
  },
  {
   "cell_type": "markdown",
   "metadata": {},
   "source": [
    "### 6. Bagging"
   ]
  },
  {
   "cell_type": "code",
   "execution_count": 257,
   "metadata": {},
   "outputs": [
    {
     "name": "stdout",
     "output_type": "stream",
     "text": [
      "Best score: 0.827925 using {'n_estimators': 500}\n",
      "Mean score: 0.820592 +/- 0.076124\n",
      "Best score: 0.825239 using {'n_estimators': 1000}\n",
      "Mean score: 0.822369 +/- 0.070185\n",
      "Best score: 0.826945 using {'n_estimators': 100}\n",
      "Mean score: 0.818752 +/- 0.079269\n"
     ]
    }
   ],
   "source": [
    "model = BaggingClassifier()\n",
    "param_grid = {\n",
    "    'n_estimators': [10, 100, 250, 500, 1000]\n",
    "}\n",
    "\n",
    "mean_bag, std_bag = grid_search_results(model, param_grid, X_train)\n",
    "\n",
    "mean_bag_imp, std_bag_imp = grid_search_results(model, param_grid, X_train_imp)\n",
    "\n",
    "mean_bag_no_age_sex, std_bag_no_age_sex = grid_search_results(model, param_grid, X_train_no_age_sex)"
   ]
  },
  {
   "cell_type": "markdown",
   "metadata": {},
   "source": [
    "### 7. Stochastic Gradient Boosting"
   ]
  },
  {
   "cell_type": "code",
   "execution_count": 258,
   "metadata": {},
   "outputs": [
    {
     "name": "stdout",
     "output_type": "stream",
     "text": [
      "Best score: 0.859296 using {'learning_rate': 0.001, 'max_depth': 3, 'n_estimators': 1000, 'subsample': 0.5}\n",
      "Mean score: 0.794400 +/- 0.062108\n",
      "Best score: 0.856491 using {'learning_rate': 0.001, 'max_depth': 3, 'n_estimators': 500, 'subsample': 0.7}\n",
      "Mean score: 0.808747 +/- 0.057482\n",
      "Best score: 0.856025 using {'learning_rate': 0.01, 'max_depth': 3, 'n_estimators': 100, 'subsample': 0.5}\n",
      "Mean score: 0.797750 +/- 0.065146\n"
     ]
    }
   ],
   "source": [
    "model = GradientBoostingClassifier()\n",
    "param_grid = {\n",
    "    'n_estimators': [10, 100, 500, 1000],\n",
    "    'learning_rate': [0.001, 0.01, 0.1],\n",
    "    'subsample': [0.5, 0.7, 1.0],\n",
    "    'max_depth': [3, 7, 9]\n",
    "}\n",
    "\n",
    "mean_sgb, std_sgb = grid_search_results(model, param_grid, X_train)\n",
    "\n",
    "mean_sgb_imp, std_sgb_imp = grid_search_results(model, param_grid, X_train_imp)\n",
    "\n",
    "mean_sgb_no_age_sex, std_sgb_no_age_sex = grid_search_results(model, param_grid, X_train_no_age_sex)"
   ]
  },
  {
   "cell_type": "markdown",
   "metadata": {},
   "source": [
    "### 8. Multilayer Perceptron"
   ]
  },
  {
   "cell_type": "code",
   "execution_count": 259,
   "metadata": {},
   "outputs": [
    {
     "name": "stdout",
     "output_type": "stream",
     "text": [
      "Best score: 0.869192 using {'activation': 'logistic', 'alpha': 0.02, 'hidden_layer_sizes': (100, 100), 'solver': 'adam'}\n",
      "Mean score: 0.770182 +/- 0.092604\n",
      "Best score: 0.868644 using {'activation': 'logistic', 'alpha': 0.0001, 'hidden_layer_sizes': (100, 100), 'solver': 'adam'}\n",
      "Mean score: 0.777805 +/- 0.094166\n",
      "Best score: 0.866847 using {'activation': 'logistic', 'alpha': 0.02, 'hidden_layer_sizes': (100, 100), 'solver': 'adam'}\n",
      "Mean score: 0.772278 +/- 0.090765\n"
     ]
    }
   ],
   "source": [
    "model = MLPClassifier()\n",
    "param_grid = {\n",
    "    'alpha': [0.1,0.01,0.02,0.005,0.0001,0.00001],\n",
    "    'hidden_layer_sizes': [(10,10,10),\n",
    "                         (100,100,100),\n",
    "                         (100,100),\n",
    "                         (3,5),\n",
    "                         (5,3)],\n",
    "    'solver': ['lbfgs','adam','sgd'],\n",
    "    'activation': ['relu','logistic']\n",
    "}\n",
    "\n",
    "mean_mlp, std_mlp = grid_search_results(model, param_grid, X_train)\n",
    "\n",
    "mean_mlp_imp, std_mlp_imp = grid_search_results(model, param_grid, X_train_imp)\n",
    "\n",
    "mean_mlp_no_age_sex, std_mlp_no_age_sex = grid_search_results(model, param_grid, X_train_no_age_sex)"
   ]
  },
  {
   "cell_type": "markdown",
   "metadata": {},
   "source": [
    "## Model Evaluation"
   ]
  },
  {
   "cell_type": "code",
   "execution_count": 273,
   "metadata": {},
   "outputs": [],
   "source": [
    "model_all_feats = pd.DataFrame({'Model': ['Logistic Regression','Support Vector Machine','K-Nearest Neighbor','Ridge','Random Forest','Bagging','Stochastic Gradient Boosting', 'Multilayer Perceptron'], \n",
    "                         'f1-score': [mean_lr*100, mean_svm*100, mean_knn*100, mean_ridge*100, mean_rf*100, mean_bag*100, mean_sgb*100, mean_mlp*100],\n",
    "                         'standard deviation': [std_lr*100, std_svm*100, std_knn*100, std_ridge*100, std_rf*100, std_bag*100, std_sgb*100, std_mlp*100]\n",
    "                        })\n",
    "\n",
    "model_imp_feats = pd.DataFrame({'Model': ['Logistic Regression','Support Vector Machine','K-Nearest Neighbor','Ridge','Random Forest','Bagging','Stochastic Gradient Boosting', 'Multilayer Perceptron'], \n",
    "                         'f1-score': [mean_lr_imp*100, mean_svm_imp*100, mean_knn_imp*100, mean_ridge_imp*100, mean_rf_imp*100, mean_bag_imp*100, mean_sgb_imp*100, mean_mlp_imp*100],\n",
    "                         'standard deviation': [std_lr_imp*100, std_svm_imp*100, std_knn_imp*100, std_ridge_imp*100, std_rf_imp*100, std_bag_imp*100, std_sgb_imp*100, std_mlp_imp*100]\n",
    "                        })\n",
    "\n",
    "model_no_age_sex_feats = pd.DataFrame({'Model': ['Logistic Regression','Support Vector Machine','K-Nearest Neighbor','Ridge','Random Forest','Bagging','Stochastic Gradient Boosting', 'Multilayer Perceptron'], \n",
    "                         'f1-score': [mean_lr_no_age_sex*100, mean_svm_no_age_sex*100, mean_knn_no_age_sex*100, mean_ridge_no_age_sex*100, mean_rf_no_age_sex*100, mean_bag_no_age_sex*100, mean_sgb_no_age_sex*100, mean_mlp_no_age_sex*100],\n",
    "                         'standard deviation': [std_lr_no_age_sex*100, std_svm_no_age_sex*100, std_knn_imp*100, std_ridge_no_age_sex*100, std_rf_no_age_sex*100, std_bag_no_age_sex*100, std_sgb_no_age_sex*100, std_mlp_no_age_sex*100]\n",
    "                        })"
   ]
  },
  {
   "cell_type": "code",
   "execution_count": 274,
   "metadata": {},
   "outputs": [
    {
     "data": {
      "text/html": [
       "<div>\n",
       "<style scoped>\n",
       "    .dataframe tbody tr th:only-of-type {\n",
       "        vertical-align: middle;\n",
       "    }\n",
       "\n",
       "    .dataframe tbody tr th {\n",
       "        vertical-align: top;\n",
       "    }\n",
       "\n",
       "    .dataframe thead th {\n",
       "        text-align: right;\n",
       "    }\n",
       "</style>\n",
       "<table border=\"1\" class=\"dataframe\">\n",
       "  <thead>\n",
       "    <tr style=\"text-align: right;\">\n",
       "      <th></th>\n",
       "      <th>Model</th>\n",
       "      <th>f1-score</th>\n",
       "      <th>standard deviation</th>\n",
       "    </tr>\n",
       "  </thead>\n",
       "  <tbody>\n",
       "    <tr>\n",
       "      <th>0</th>\n",
       "      <td>Logistic Regression</td>\n",
       "      <td>86.045695</td>\n",
       "      <td>5.631590</td>\n",
       "    </tr>\n",
       "    <tr>\n",
       "      <th>1</th>\n",
       "      <td>Support Vector Machine</td>\n",
       "      <td>79.976862</td>\n",
       "      <td>5.753717</td>\n",
       "    </tr>\n",
       "    <tr>\n",
       "      <th>2</th>\n",
       "      <td>K-Nearest Neighbor</td>\n",
       "      <td>84.476427</td>\n",
       "      <td>6.296103</td>\n",
       "    </tr>\n",
       "    <tr>\n",
       "      <th>3</th>\n",
       "      <td>Ridge</td>\n",
       "      <td>86.894020</td>\n",
       "      <td>5.842980</td>\n",
       "    </tr>\n",
       "    <tr>\n",
       "      <th>4</th>\n",
       "      <td>Random Forest</td>\n",
       "      <td>83.173039</td>\n",
       "      <td>7.112040</td>\n",
       "    </tr>\n",
       "    <tr>\n",
       "      <th>5</th>\n",
       "      <td>Bagging</td>\n",
       "      <td>82.059246</td>\n",
       "      <td>7.612448</td>\n",
       "    </tr>\n",
       "    <tr>\n",
       "      <th>6</th>\n",
       "      <td>Stochastic Gradient Boosting</td>\n",
       "      <td>79.439988</td>\n",
       "      <td>6.210798</td>\n",
       "    </tr>\n",
       "    <tr>\n",
       "      <th>7</th>\n",
       "      <td>Multilayer Perceptron</td>\n",
       "      <td>77.018228</td>\n",
       "      <td>9.260418</td>\n",
       "    </tr>\n",
       "  </tbody>\n",
       "</table>\n",
       "</div>"
      ],
      "text/plain": [
       "                          Model   f1-score  standard deviation\n",
       "0           Logistic Regression  86.045695            5.631590\n",
       "1        Support Vector Machine  79.976862            5.753717\n",
       "2            K-Nearest Neighbor  84.476427            6.296103\n",
       "3                         Ridge  86.894020            5.842980\n",
       "4                 Random Forest  83.173039            7.112040\n",
       "5                       Bagging  82.059246            7.612448\n",
       "6  Stochastic Gradient Boosting  79.439988            6.210798\n",
       "7         Multilayer Perceptron  77.018228            9.260418"
      ]
     },
     "execution_count": 274,
     "metadata": {},
     "output_type": "execute_result"
    }
   ],
   "source": [
    "model_all_feats"
   ]
  },
  {
   "cell_type": "code",
   "execution_count": 275,
   "metadata": {},
   "outputs": [
    {
     "data": {
      "text/html": [
       "<div>\n",
       "<style scoped>\n",
       "    .dataframe tbody tr th:only-of-type {\n",
       "        vertical-align: middle;\n",
       "    }\n",
       "\n",
       "    .dataframe tbody tr th {\n",
       "        vertical-align: top;\n",
       "    }\n",
       "\n",
       "    .dataframe thead th {\n",
       "        text-align: right;\n",
       "    }\n",
       "</style>\n",
       "<table border=\"1\" class=\"dataframe\">\n",
       "  <thead>\n",
       "    <tr style=\"text-align: right;\">\n",
       "      <th></th>\n",
       "      <th>Model</th>\n",
       "      <th>f1-score</th>\n",
       "      <th>standard deviation</th>\n",
       "    </tr>\n",
       "  </thead>\n",
       "  <tbody>\n",
       "    <tr>\n",
       "      <th>0</th>\n",
       "      <td>Logistic Regression</td>\n",
       "      <td>86.400349</td>\n",
       "      <td>5.999839</td>\n",
       "    </tr>\n",
       "    <tr>\n",
       "      <th>1</th>\n",
       "      <td>Support Vector Machine</td>\n",
       "      <td>80.566316</td>\n",
       "      <td>5.498324</td>\n",
       "    </tr>\n",
       "    <tr>\n",
       "      <th>2</th>\n",
       "      <td>K-Nearest Neighbor</td>\n",
       "      <td>85.103277</td>\n",
       "      <td>6.659207</td>\n",
       "    </tr>\n",
       "    <tr>\n",
       "      <th>3</th>\n",
       "      <td>Ridge</td>\n",
       "      <td>85.585439</td>\n",
       "      <td>5.885541</td>\n",
       "    </tr>\n",
       "    <tr>\n",
       "      <th>4</th>\n",
       "      <td>Random Forest</td>\n",
       "      <td>83.034108</td>\n",
       "      <td>6.690957</td>\n",
       "    </tr>\n",
       "    <tr>\n",
       "      <th>5</th>\n",
       "      <td>Bagging</td>\n",
       "      <td>82.236892</td>\n",
       "      <td>7.018452</td>\n",
       "    </tr>\n",
       "    <tr>\n",
       "      <th>6</th>\n",
       "      <td>Stochastic Gradient Boosting</td>\n",
       "      <td>80.874715</td>\n",
       "      <td>5.748236</td>\n",
       "    </tr>\n",
       "    <tr>\n",
       "      <th>7</th>\n",
       "      <td>Multilayer Perceptron</td>\n",
       "      <td>77.780470</td>\n",
       "      <td>9.416631</td>\n",
       "    </tr>\n",
       "  </tbody>\n",
       "</table>\n",
       "</div>"
      ],
      "text/plain": [
       "                          Model   f1-score  standard deviation\n",
       "0           Logistic Regression  86.400349            5.999839\n",
       "1        Support Vector Machine  80.566316            5.498324\n",
       "2            K-Nearest Neighbor  85.103277            6.659207\n",
       "3                         Ridge  85.585439            5.885541\n",
       "4                 Random Forest  83.034108            6.690957\n",
       "5                       Bagging  82.236892            7.018452\n",
       "6  Stochastic Gradient Boosting  80.874715            5.748236\n",
       "7         Multilayer Perceptron  77.780470            9.416631"
      ]
     },
     "execution_count": 275,
     "metadata": {},
     "output_type": "execute_result"
    }
   ],
   "source": [
    "model_imp_feats"
   ]
  },
  {
   "cell_type": "code",
   "execution_count": 276,
   "metadata": {},
   "outputs": [
    {
     "data": {
      "text/html": [
       "<div>\n",
       "<style scoped>\n",
       "    .dataframe tbody tr th:only-of-type {\n",
       "        vertical-align: middle;\n",
       "    }\n",
       "\n",
       "    .dataframe tbody tr th {\n",
       "        vertical-align: top;\n",
       "    }\n",
       "\n",
       "    .dataframe thead th {\n",
       "        text-align: right;\n",
       "    }\n",
       "</style>\n",
       "<table border=\"1\" class=\"dataframe\">\n",
       "  <thead>\n",
       "    <tr style=\"text-align: right;\">\n",
       "      <th></th>\n",
       "      <th>Model</th>\n",
       "      <th>f1-score</th>\n",
       "      <th>standard deviation</th>\n",
       "    </tr>\n",
       "  </thead>\n",
       "  <tbody>\n",
       "    <tr>\n",
       "      <th>0</th>\n",
       "      <td>Logistic Regression</td>\n",
       "      <td>85.866118</td>\n",
       "      <td>6.458277</td>\n",
       "    </tr>\n",
       "    <tr>\n",
       "      <th>1</th>\n",
       "      <td>Support Vector Machine</td>\n",
       "      <td>79.915322</td>\n",
       "      <td>6.147160</td>\n",
       "    </tr>\n",
       "    <tr>\n",
       "      <th>2</th>\n",
       "      <td>K-Nearest Neighbor</td>\n",
       "      <td>84.927481</td>\n",
       "      <td>6.659207</td>\n",
       "    </tr>\n",
       "    <tr>\n",
       "      <th>3</th>\n",
       "      <td>Ridge</td>\n",
       "      <td>86.084635</td>\n",
       "      <td>6.077318</td>\n",
       "    </tr>\n",
       "    <tr>\n",
       "      <th>4</th>\n",
       "      <td>Random Forest</td>\n",
       "      <td>83.234356</td>\n",
       "      <td>6.779018</td>\n",
       "    </tr>\n",
       "    <tr>\n",
       "      <th>5</th>\n",
       "      <td>Bagging</td>\n",
       "      <td>81.875191</td>\n",
       "      <td>7.926851</td>\n",
       "    </tr>\n",
       "    <tr>\n",
       "      <th>6</th>\n",
       "      <td>Stochastic Gradient Boosting</td>\n",
       "      <td>79.775044</td>\n",
       "      <td>6.514582</td>\n",
       "    </tr>\n",
       "    <tr>\n",
       "      <th>7</th>\n",
       "      <td>Multilayer Perceptron</td>\n",
       "      <td>77.227784</td>\n",
       "      <td>9.076548</td>\n",
       "    </tr>\n",
       "  </tbody>\n",
       "</table>\n",
       "</div>"
      ],
      "text/plain": [
       "                          Model   f1-score  standard deviation\n",
       "0           Logistic Regression  85.866118            6.458277\n",
       "1        Support Vector Machine  79.915322            6.147160\n",
       "2            K-Nearest Neighbor  84.927481            6.659207\n",
       "3                         Ridge  86.084635            6.077318\n",
       "4                 Random Forest  83.234356            6.779018\n",
       "5                       Bagging  81.875191            7.926851\n",
       "6  Stochastic Gradient Boosting  79.775044            6.514582\n",
       "7         Multilayer Perceptron  77.227784            9.076548"
      ]
     },
     "execution_count": 276,
     "metadata": {},
     "output_type": "execute_result"
    }
   ],
   "source": [
    "model_no_age_sex_feats"
   ]
  },
  {
   "cell_type": "code",
   "execution_count": null,
   "metadata": {},
   "outputs": [],
   "source": [
    "df.plot(x=\"X\", y=[\"A\", \"B\", \"C\"], kind=\"bar\")"
   ]
  },
  {
   "cell_type": "code",
   "execution_count": 124,
   "metadata": {},
   "outputs": [],
   "source": [
    "# test all best tuned models on test sets\n",
    "# graph all means and stds barplot with stds, take code from mlbd hw\n",
    "# Write importance of age and sex\n",
    "\n",
    "# roc curve\n",
    "#feature importances\n",
    "\n",
    "#https://www.kaggle.com/nareshbhat/eda-classification-ensemble-92-accuracy\n",
    "#https://www.kaggle.com/nareshbhat/heart-attack-prediction-using-different-ml-models"
   ]
  },
  {
   "cell_type": "markdown",
   "metadata": {},
   "source": [
    "- graph to show the performances of all models"
   ]
  },
  {
   "cell_type": "code",
   "execution_count": 277,
   "metadata": {},
   "outputs": [
    {
     "ename": "NameError",
     "evalue": "name 'metrics' is not defined",
     "output_type": "error",
     "traceback": [
      "\u001b[0;31m---------------------------------------------------------------------------\u001b[0m",
      "\u001b[0;31mNameError\u001b[0m                                 Traceback (most recent call last)",
      "\u001b[0;32m<ipython-input-277-1038ea984bd8>\u001b[0m in \u001b[0;36m<module>\u001b[0;34m\u001b[0m\n\u001b[1;32m      1\u001b[0m \u001b[0mplt\u001b[0m\u001b[0;34m.\u001b[0m\u001b[0mfigure\u001b[0m\u001b[0;34m(\u001b[0m\u001b[0mfigsize\u001b[0m\u001b[0;34m=\u001b[0m\u001b[0;34m(\u001b[0m\u001b[0;36m15\u001b[0m\u001b[0;34m,\u001b[0m \u001b[0;36m5\u001b[0m\u001b[0;34m)\u001b[0m\u001b[0;34m)\u001b[0m\u001b[0;34m\u001b[0m\u001b[0;34m\u001b[0m\u001b[0m\n\u001b[1;32m      2\u001b[0m \u001b[0;34m\u001b[0m\u001b[0m\n\u001b[0;32m----> 3\u001b[0;31m \u001b[0;32mfor\u001b[0m \u001b[0mm_id\u001b[0m\u001b[0;34m,\u001b[0m \u001b[0mmetric\u001b[0m \u001b[0;32min\u001b[0m \u001b[0menumerate\u001b[0m\u001b[0;34m(\u001b[0m\u001b[0mmetrics\u001b[0m\u001b[0;34m.\u001b[0m\u001b[0mkeys\u001b[0m\u001b[0;34m(\u001b[0m\u001b[0;34m)\u001b[0m\u001b[0;34m)\u001b[0m\u001b[0;34m:\u001b[0m\u001b[0;34m\u001b[0m\u001b[0;34m\u001b[0m\u001b[0m\n\u001b[0m\u001b[1;32m      4\u001b[0m \u001b[0;34m\u001b[0m\u001b[0m\n\u001b[1;32m      5\u001b[0m     \u001b[0;31m# Create the subplot for the current metric\u001b[0m\u001b[0;34m\u001b[0m\u001b[0;34m\u001b[0m\u001b[0;34m\u001b[0m\u001b[0m\n",
      "\u001b[0;31mNameError\u001b[0m: name 'metrics' is not defined"
     ]
    },
    {
     "data": {
      "text/plain": [
       "<Figure size 1080x360 with 0 Axes>"
      ]
     },
     "metadata": {},
     "output_type": "display_data"
    }
   ],
   "source": [
    "plt.figure(figsize=(15, 5))\n",
    "\n",
    "for result in enumerate(results.keys()):\n",
    "    \n",
    "    # Create the subplot for the current metric\n",
    "    plt.subplot(1, 2, m_id + 1)\n",
    "\n",
    "    # Compute means, standard deviations, and labels\n",
    "    means, yerrs, labels = [], [], []\n",
    "    for model, model_scores in results.items():\n",
    "        means.append(np.mean(model_scores))\n",
    "        yerrs.append(np.std(model_scores))\n",
    "        labels.append(model)\n",
    "    \n",
    "    # Plot values\n",
    "    x_pos = np.arange(len(labels))\n",
    "    plt.bar(x_pos, means, yerr=yerrs, align='center', alpha=0.5, ecolor='black', capsize=10)\n",
    "    \n",
    "    # Make decorations\n",
    "    plt.xticks(x_pos, labels)\n",
    "    plt.ylabel(metric)\n",
    "    plt.ylim(0, 1)\n",
    "\n",
    "plt.tight_layout()\n",
    "plt.show()"
   ]
  },
  {
   "cell_type": "code",
   "execution_count": null,
   "metadata": {},
   "outputs": [],
   "source": []
  }
 ],
 "metadata": {
  "kernelspec": {
   "display_name": "myenv",
   "language": "python",
   "name": "myenv"
  },
  "language_info": {
   "codemirror_mode": {
    "name": "ipython",
    "version": 3
   },
   "file_extension": ".py",
   "mimetype": "text/x-python",
   "name": "python",
   "nbconvert_exporter": "python",
   "pygments_lexer": "ipython3",
   "version": "3.7.6"
  }
 },
 "nbformat": 4,
 "nbformat_minor": 4
}
