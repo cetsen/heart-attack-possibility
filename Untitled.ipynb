{
 "cells": [
  {
   "cell_type": "code",
   "execution_count": null,
   "metadata": {},
   "outputs": [],
   "source": []
  },
  {
   "cell_type": "code",
   "execution_count": null,
   "metadata": {},
   "outputs": [],
   "source": [
    "# Place all model performances in a dataframe\n",
    "model_perfs = pd.DataFrame({'Model': ['Log. Reg.','SVM','K-NN','RF','SGB', 'MLP', 'Log. Reg.','SVM','K-NN','RF','SGB', 'MLP', 'Log. Reg.','SVM','K-NN','RF','SGB', 'MLP'],\n",
    "                            'Features': ['all', 'all', 'all', 'all', 'all', 'all', \n",
    "                                         'most important', 'most important', 'most important', 'most important', 'most important', 'most important', \n",
    "                                         'no age/sex', 'no age/sex', 'no age/sex', 'no age/sex', 'no age/sex', 'no age/sex'],\n",
    "                         'Mean': [mean_lr*100, mean_svm*100, mean_knn*100, mean_rf*100,  mean_sgb*100, mean_mlp*100, \n",
    "                                  mean_lr_imp*100, mean_svm_imp*100, mean_knn_imp*100, mean_rf_imp*100, mean_sgb_imp*100, mean_mlp_imp*100,\n",
    "                                  mean_lr_no_age_sex*100, mean_svm_no_age_sex*100, mean_knn_no_age_sex*100, mean_rf_no_age_sex*100, mean_sgb_no_age_sex*100, mean_mlp_no_age_sex*100],\n",
    "                         'Std': [std_lr*100, std_svm*100, std_knn*100, std_rf*100, std_sgb*100, std_mlp*100,\n",
    "                                std_lr_imp*100, std_svm_imp*100, std_knn_imp*100, std_rf_imp*100, std_sgb_imp*100, std_mlp_imp*100,\n",
    "                                std_lr_no_age_sex*100, std_svm_no_age_sex*100, std_knn_no_age_sex*100, std_rf_no_age_sex*100, std_sgb_no_age_sex*100, std_mlp_no_age_sex*100]\n",
    "                        })\n",
    "\n",
    "model_perfs"
   ]
  },
  {
   "cell_type": "code",
   "execution_count": 430,
   "metadata": {},
   "outputs": [
    {
     "data": {
      "text/plain": [
       "<AxesSubplot:xlabel='Model'>"
      ]
     },
     "execution_count": 430,
     "metadata": {},
     "output_type": "execute_result"
    },
    {
     "data": {
      "image/png": "[encoded data removed]",
      "text/plain": [
       "<Figure size 432x288 with 1 Axes>"
      ]
     },
     "metadata": {
      "needs_background": "light"
     },
     "output_type": "display_data"
    }
   ],
   "source": [
    "model_perfs.plot(kind='bar', x=\"Model\", y=\"Mean\", yerr=\"Std\", alpha = 0.5,error_kw=dict(ecolor='k'))"
   ]
  },
  {
   "cell_type": "code",
   "execution_count": null,
   "metadata": {},
   "outputs": [],
   "source": [
    "model_perfs[[\"\", \"A\", \"B\", \"C\"]].plot(x=\"X\", kind=\"bar\")"
   ]
  }
 ],
 "metadata": {
  "kernelspec": {
   "display_name": "Python 3",
   "language": "python",
   "name": "python3"
  },
  "language_info": {
   "codemirror_mode": {
    "name": "ipython",
    "version": 3
   },
   "file_extension": ".py",
   "mimetype": "text/x-python",
   "name": "python",
   "nbconvert_exporter": "python",
   "pygments_lexer": "ipython3",
   "version": "3.8.5"
  }
 },
 "nbformat": 4,
 "nbformat_minor": 4
}
